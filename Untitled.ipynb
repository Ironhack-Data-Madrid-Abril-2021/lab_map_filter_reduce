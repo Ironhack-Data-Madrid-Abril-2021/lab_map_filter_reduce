{
 "cells": [
  {
   "cell_type": "code",
   "execution_count": 97,
   "id": "0eb95741",
   "metadata": {},
   "outputs": [
    {
     "name": "stdout",
     "output_type": "stream",
     "text": [
      "the\n"
     ]
    }
   ],
   "source": [
    "d=\"the{7}\"\n",
    "m = d.split('{')[0]\n",
    "print(m)"
   ]
  },
  {
   "cell_type": "code",
   "execution_count": null,
   "id": "d71e7c45",
   "metadata": {},
   "outputs": [],
   "source": [
    "arr = string.split()\n",
    "print(arr)"
   ]
  },
  {
   "cell_type": "code",
   "execution_count": null,
   "id": "2f2b2f40",
   "metadata": {},
   "outputs": [],
   "source": [
    "string ='  '.join(d) "
   ]
  }
 ],
 "metadata": {
  "kernelspec": {
   "display_name": "Python 3",
   "language": "python",
   "name": "python3"
  },
  "language_info": {
   "codemirror_mode": {
    "name": "ipython",
    "version": 3
   },
   "file_extension": ".py",
   "mimetype": "text/x-python",
   "name": "python",
   "nbconvert_exporter": "python",
   "pygments_lexer": "ipython3",
   "version": "3.9.2"
  }
 },
 "nbformat": 4,
 "nbformat_minor": 5
}
