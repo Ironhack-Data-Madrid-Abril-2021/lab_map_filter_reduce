{
 "cells": [
  {
   "cell_type": "code",
   "execution_count": 26,
   "id": "79b4feb3",
   "metadata": {},
   "outputs": [],
   "source": [
    "word_list = ['and', \"the\", 'a', 'an']\n",
    "def word_filter(x):\n",
    "    print(x)\n",
    "    print(word_list)\n",
    "    if x in word_list:\n",
    "        return(False)\n",
    "    else:\n",
    "        return(True)"
   ]
  },
  {
   "cell_type": "code",
   "execution_count": 27,
   "id": "c57c2433",
   "metadata": {},
   "outputs": [
    {
     "name": "stdout",
     "output_type": "stream",
     "text": [
      "['Hello']\n",
      "['and', 'the', 'a', 'an']\n"
     ]
    },
    {
     "data": {
      "text/plain": [
       "True"
      ]
     },
     "execution_count": 27,
     "metadata": {},
     "output_type": "execute_result"
    }
   ],
   "source": [
    "m=[\"Hello\"]\n",
    "l=[\"and\"]\n",
    "word_filter(m)"
   ]
  },
  {
   "cell_type": "code",
   "execution_count": 28,
   "id": "2ba239d9",
   "metadata": {},
   "outputs": [
    {
     "name": "stdout",
     "output_type": "stream",
     "text": [
      "['and']\n",
      "['and', 'the', 'a', 'an']\n"
     ]
    },
    {
     "data": {
      "text/plain": [
       "True"
      ]
     },
     "execution_count": 28,
     "metadata": {},
     "output_type": "execute_result"
    }
   ],
   "source": [
    "word_filter(l)"
   ]
  },
  {
   "cell_type": "code",
   "execution_count": null,
   "id": "951a876b",
   "metadata": {},
   "outputs": [],
   "source": []
  }
 ],
 "metadata": {
  "kernelspec": {
   "display_name": "Python 3",
   "language": "python",
   "name": "python3"
  },
  "language_info": {
   "codemirror_mode": {
    "name": "ipython",
    "version": 3
   },
   "file_extension": ".py",
   "mimetype": "text/x-python",
   "name": "python",
   "nbconvert_exporter": "python",
   "pygments_lexer": "ipython3",
   "version": "3.9.2"
  }
 },
 "nbformat": 4,
 "nbformat_minor": 5
}
