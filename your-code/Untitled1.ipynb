{
 "cells": [
  {
   "cell_type": "code",
   "execution_count": 8,
   "id": "3b1b15f8",
   "metadata": {},
   "outputs": [],
   "source": [
    "word_list = ['and', \"the\", 'a', 'an']\n",
    "def word_filter(x):\n",
    "    print(x)\n",
    "    if x in word_list:\n",
    "        return False\n",
    "    else:\n",
    "        return True"
   ]
  },
  {
   "cell_type": "code",
   "execution_count": 9,
   "id": "8f8ae149",
   "metadata": {},
   "outputs": [
    {
     "name": "stdout",
     "output_type": "stream",
     "text": [
      "and\n"
     ]
    },
    {
     "data": {
      "text/plain": [
       "False"
      ]
     },
     "execution_count": 9,
     "metadata": {},
     "output_type": "execute_result"
    }
   ],
   "source": [
    "a='and'\n",
    "word_filter(a)"
   ]
  },
  {
   "cell_type": "code",
   "execution_count": 17,
   "id": "89816a68",
   "metadata": {},
   "outputs": [],
   "source": [
    "m=['year,', 'on', 'the', 'seventh\\nday']"
   ]
  },
  {
   "cell_type": "code",
   "execution_count": 21,
   "id": "25fda706",
   "metadata": {},
   "outputs": [
    {
     "name": "stdout",
     "output_type": "stream",
     "text": [
      "year,\n",
      "year,\n",
      "on\n",
      "on\n",
      "the\n",
      "seventh\n",
      "day\n",
      "seventh\n",
      "day\n"
     ]
    }
   ],
   "source": [
    "prophet_filter=filter(word_filter,m)\n",
    "for x in prophet_filter:\n",
    "  print(x)"
   ]
  },
  {
   "cell_type": "code",
   "execution_count": null,
   "id": "c2eb41e6",
   "metadata": {},
   "outputs": [],
   "source": []
  }
 ],
 "metadata": {
  "kernelspec": {
   "display_name": "Python 3",
   "language": "python",
   "name": "python3"
  },
  "language_info": {
   "codemirror_mode": {
    "name": "ipython",
    "version": 3
   },
   "file_extension": ".py",
   "mimetype": "text/x-python",
   "name": "python",
   "nbconvert_exporter": "python",
   "pygments_lexer": "ipython3",
   "version": "3.9.2"
  }
 },
 "nbformat": 4,
 "nbformat_minor": 5
}
